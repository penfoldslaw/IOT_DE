{
 "cells": [
  {
   "cell_type": "code",
   "execution_count": 44,
   "metadata": {},
   "outputs": [
    {
     "name": "stdout",
     "output_type": "stream",
     "text": [
      "/home/worriedemployee/repo/IOT_DE/.venv\n"
     ]
    }
   ],
   "source": [
    "import sys\n",
    "print(sys.prefix)"
   ]
  },
  {
   "cell_type": "code",
   "execution_count": 45,
   "metadata": {},
   "outputs": [],
   "source": [
    "broker = 'test.mosquitto.org'\n",
    "port = 1883\n",
    "topic = 'test_topic1'\n"
   ]
  },
  {
   "cell_type": "code",
   "execution_count": 46,
   "metadata": {},
   "outputs": [
    {
     "data": {
      "text/plain": [
       "<paho.mqtt.client.MQTTMessageInfo at 0x7f3169cc3790>"
      ]
     },
     "execution_count": 46,
     "metadata": {},
     "output_type": "execute_result"
    }
   ],
   "source": [
    "import sys\n",
    "\n",
    "import paho.mqtt.client as mqtt\n",
    "\n",
    "client = mqtt.Client(mqtt.CallbackAPIVersion.VERSION2)\n",
    "broker = 'test.mosquitto.org'\n",
    "port = 1883\n",
    "topic = 'test_topic1'\n",
    "\n",
    "if client.connect(broker,port, 60) != 0:\n",
    "    print(\"Couldn't connect to the mqtt broker\")\n",
    "    sys.exit(1)\n",
    "\n",
    "client.publish(topic,'hello Andy', 0)\n",
    "#client.disconnect()\n",
    "# \n",
    "\n",
    "# if msg_info.is_published() == False:\n",
    "#     print('Message is not yet published.')\n",
    "\n",
    "\n"
   ]
  },
  {
   "cell_type": "code",
   "execution_count": null,
   "metadata": {},
   "outputs": [],
   "source": [
    "import sys\n",
    "\n",
    "import paho.mqtt.client as mqtt\n",
    "\n",
    "\n",
    "def message_handling(client, userdata, msg):\n",
    "    print(f\"{msg.topic}: {msg.payload.decode('utf-8')}\")\n",
    "\n",
    "\n",
    "client = mqtt.Client(mqtt.CallbackAPIVersion.VERSION2)\n",
    "client.on_message = message_handling\n",
    "\n",
    "if client.connect(broker, 1883, 60) != 0:\n",
    "    print(\"Couldn't connect to the mqtt broker\")\n",
    "    sys.exit(1)\n",
    "\n",
    "client.subscribe(topic)\n",
    "\n",
    "try:\n",
    "    print(\"Press CTRL+C to exit...\")\n",
    "    client.loop_forever()\n",
    "except Exception:\n",
    "    print(\"Caught an Exception, something went wrong...\")\n",
    "finally:\n",
    "    print(\"Disconnecting from the MQTT broker\")\n",
    "    client.disconnect()"
   ]
  },
  {
   "cell_type": "code",
   "execution_count": null,
   "metadata": {},
   "outputs": [],
   "source": [
    "from faker import Faker  \n",
    "from datetime import datetime, timedelta\n",
    "from random import randint \n",
    "# To create a json file \n",
    "import json         \n",
    "\n",
    "dt = datetime.now()\n",
    "formatted_dt = dt.strftime('%Y-%m-%dT%H:%M:%S.%fZ')\n",
    "i = 0 \n",
    "telemetry_data ={}  \n",
    "while (i < 3):\n",
    "    #i = count + 1\n",
    "    telemetry_data[i]={}  \n",
    "    telemetry_data[i]['id']= 1 \n",
    "    telemetry_data[i]['timestamp']= formatted_dt\n",
    "    telemetry_data[i]['rpm']= randint(6000,15000)\n",
    "    telemetry_data[i]['gear']= randint(1,6) \n",
    "    telemetry_data[i]['throttle_position']= randint(0,100)\n",
    "    telemetry_data[i]['tire_temps']= {\"front_left\":randint(0,99), \"front_right\":randint(0,99), \"rear_left\":randint(0,99), \"rear_right\":randint(0,99)} \n",
    "print(telemetry_data) "
   ]
  },
  {
   "cell_type": "code",
   "execution_count": 38,
   "metadata": {},
   "outputs": [
    {
     "name": "stdout",
     "output_type": "stream",
     "text": [
      "{0: {'id': 1, 'timestamp': '2024-07-25T13:42:02.649437Z', 'rpm': 7894, 'gear': 6, 'throttle_position': 1, 'tire_temps': {'front_left': 1, 'front_right': 67, 'rear_left': 34, 'rear_right': 78}}, 1: {'id': 1, 'timestamp': '2024-07-25T13:42:02.649437Z', 'rpm': 14127, 'gear': 5, 'throttle_position': 29, 'tire_temps': {'front_left': 59, 'front_right': 29, 'rear_left': 66, 'rear_right': 83}}, 2: {'id': 1, 'timestamp': '2024-07-25T13:42:02.649437Z', 'rpm': 13583, 'gear': 5, 'throttle_position': 61, 'tire_temps': {'front_left': 9, 'front_right': 3, 'rear_left': 47, 'rear_right': 18}}, 3: {'id': 1, 'timestamp': '2024-07-25T13:42:02.649437Z', 'rpm': 7520, 'gear': 1, 'throttle_position': 28, 'tire_temps': {'front_left': 98, 'front_right': 50, 'rear_left': 75, 'rear_right': 98}}}\n"
     ]
    }
   ],
   "source": [
    "from faker import Faker  \n",
    "from datetime import datetime, timedelta\n",
    "from random import randint \n",
    "# To create a json file \n",
    "import json         \n",
    "\n",
    "dt = datetime.now()\n",
    "formatted_dt = dt.strftime('%Y-%m-%dT%H:%M:%S.%fZ')\n",
    "\n",
    "\n",
    "  \n",
    "def input_data(x):  \n",
    "  \n",
    "    # dictionary  \n",
    "    telemetry_data ={}  \n",
    "    for i in range(0, x):  \n",
    "        telemetry_data[i]={}  \n",
    "        telemetry_data[i]['id']= 1 \n",
    "        telemetry_data[i]['timestamp']= formatted_dt\n",
    "        telemetry_data[i]['rpm']= randint(6000,15000)\n",
    "        telemetry_data[i]['gear']= randint(1,6) \n",
    "        telemetry_data[i]['throttle_position']= randint(0,100)\n",
    "        telemetry_data[i]['tire_temps']= {\"front_left\":randint(0,99), \"front_right\":randint(0,99), \"rear_left\":randint(0,99), \"rear_right\":randint(0,99)} \n",
    "    print(telemetry_data)  \n",
    "  \n",
    "    # # dictionary dumped as json in a json file  \n",
    "    # with open('students.json', 'w') as fp:  \n",
    "    #     json.dump(student_data, fp)  \n",
    "\n",
    "# 05.244582Z\n",
    "\n",
    "input_data(4)\n",
    "\n",
    "    "
   ]
  },
  {
   "cell_type": "code",
   "execution_count": 43,
   "metadata": {},
   "outputs": [
    {
     "data": {
      "text/plain": [
       "'2024-07-25T15:00:19.577655Z'"
      ]
     },
     "execution_count": 43,
     "metadata": {},
     "output_type": "execute_result"
    }
   ],
   "source": [
    "from datetime import datetime, timedelta\n",
    "\n",
    "nine_hours_from_now = datetime.now() + timedelta(hours=1)\n",
    "\n",
    "nine_hours_from_now.strftime('%Y-%m-%dT%H:%M:%S.%fZ')"
   ]
  },
  {
   "cell_type": "code",
   "execution_count": 47,
   "metadata": {},
   "outputs": [
    {
     "data": {
      "text/plain": [
       "'2024-07-25T14:02:31.428255Z'"
      ]
     },
     "execution_count": 47,
     "metadata": {},
     "output_type": "execute_result"
    }
   ],
   "source": [
    "from datetime import datetime, timedelta\n",
    "\n",
    "datetime.now().strftime('%Y-%m-%dT%H:%M:%S.%fZ')"
   ]
  },
  {
   "cell_type": "code",
   "execution_count": 45,
   "metadata": {},
   "outputs": [
    {
     "name": "stdout",
     "output_type": "stream",
     "text": [
      "{0: {'id': 1, 'timestamp': '2024-07-25T13:42:02.649437Z', 'rpm': 13992, 'gear': 2, 'throttle_position': 89, 'tire_temps': {'front_left': 65, 'front_right': 47, 'rear_left': 49, 'rear_right': 89}}, 1: {'id': 1, 'timestamp': '2024-07-25T13:42:02.649437Z', 'rpm': 7431, 'gear': 2, 'throttle_position': 68, 'tire_temps': {'front_left': 49, 'front_right': 26, 'rear_left': 95, 'rear_right': 2}}}\n"
     ]
    }
   ],
   "source": [
    "input_data(2)\n"
   ]
  },
  {
   "cell_type": "code",
   "execution_count": 134,
   "metadata": {},
   "outputs": [
    {
     "data": {
      "text/plain": [
       "'10:35:47.000000'"
      ]
     },
     "execution_count": 134,
     "metadata": {},
     "output_type": "execute_result"
    }
   ],
   "source": [
    "from randomtimestamp import randomtimestamp, random_date, random_time\n",
    "from datetime import date, time\n",
    "import random\n",
    "\n",
    "random_microseconds = random.randint(0, 999999)\n",
    "\n",
    "random_time(\n",
    "    start=time(10,0,0,0) ,\n",
    "    end =time(13,0,0,0),\n",
    "    text = True,\n",
    "    pattern = \"%H:%M:%S.%f\"\n",
    "    # pattern = '%Y-%m-%dT%H:%M:%S' \n",
    "    ) \n"
   ]
  },
  {
   "cell_type": "code",
   "execution_count": null,
   "metadata": {},
   "outputs": [
    {
     "data": {
      "text/plain": [
       "'12:51:05'"
      ]
     },
     "execution_count": 14,
     "metadata": {},
     "output_type": "execute_result"
    }
   ],
   "source": [
    "from randomtimestamp import randomtimestamp, random_date, random_time\n",
    "\n",
    "\n",
    "random_date(text=True)\n",
    "random_time(text=True)\n",
    "\n"
   ]
  },
  {
   "cell_type": "code",
   "execution_count": null,
   "metadata": {},
   "outputs": [
    {
     "ename": "SyntaxError",
     "evalue": "invalid syntax (1756093198.py, line 15)",
     "output_type": "error",
     "traceback": [
      "\u001b[0;36m  Cell \u001b[0;32mIn[19], line 15\u001b[0;36m\u001b[0m\n\u001b[0;31m    datetime.(1970, 6, 2, 23, 34, 10)\u001b[0m\n\u001b[0m             ^\u001b[0m\n\u001b[0;31mSyntaxError\u001b[0m\u001b[0;31m:\u001b[0m invalid syntax\n"
     ]
    }
   ],
   "source": [
    "from randomtimestamp import random_date,random_time,randomtimestamp\n",
    "from datetime import datetime \n",
    "\n",
    "# randomtimestamp(\n",
    "#     date(1950,1,1),\n",
    "#     date(2001,1,1),\n",
    "#     False,\n",
    "#     00:00:00,\n",
    "#     23:59:59,\n",
    "#     \"%d-%m-%Y %H:%M:%S\"\n",
    "#     ) -> Union[datetime, str]:\n",
    "\n",
    "\n",
    "random_time()\n",
    "datetime(1970, 6, 2, 23, 34, 10)\n"
   ]
  },
  {
   "cell_type": "code",
   "execution_count": 117,
   "metadata": {},
   "outputs": [
    {
     "name": "stdout",
     "output_type": "stream",
     "text": [
      "2023-02-23T03:01:35.000Z\n"
     ]
    }
   ],
   "source": [
    "import random\n",
    "from datetime import datetime, timedelta\n",
    "\n",
    "def random_date(start, end):\n",
    "    \"\"\"Generate a random datetime between `start` and `end`.\"\"\"\n",
    "    delta = end - start\n",
    "    int_delta = (delta.days * 24 * 60 * 60) + delta.seconds\n",
    "    random_second = random.randint(0, int_delta)\n",
    "    return start + timedelta(seconds=random_second)\n",
    "\n",
    "def generate_random_timestamp():\n",
    "    # Define the start and end date range\n",
    "    start_date = datetime(2020, 1, 1)\n",
    "    end_date = datetime(2024, 12, 31)\n",
    "\n",
    "    # Generate a random datetime\n",
    "    random_dt = random_date(start_date, end_date)\n",
    "\n",
    "    # Format the datetime to the required format\n",
    "    timestamp = random_dt.strftime('%Y-%m-%dT%H:%M:%S') + f'.{random_dt.microsecond // 1000:03d}Z'\n",
    "    return timestamp\n",
    "\n",
    "# Generate and print a random timestamp\n",
    "print(generate_random_timestamp())\n"
   ]
  },
  {
   "cell_type": "code",
   "execution_count": 147,
   "metadata": {},
   "outputs": [
    {
     "name": "stdout",
     "output_type": "stream",
     "text": [
      "13:00:00.040027\n"
     ]
    }
   ],
   "source": [
    "from datetime import datetime\n",
    "random_microseconds = random.randint(0, 999999)\n",
    "\n",
    "# Get current time\n",
    "current_time = time(13,0,0,random_microseconds)\n",
    "print(current_time)\n"
   ]
  },
  {
   "cell_type": "code",
   "execution_count": 2,
   "metadata": {},
   "outputs": [
    {
     "ename": "AttributeError",
     "evalue": "module 'datetime' has no attribute 'now'",
     "output_type": "error",
     "traceback": [
      "\u001b[0;31m---------------------------------------------------------------------------\u001b[0m",
      "\u001b[0;31mAttributeError\u001b[0m                            Traceback (most recent call last)",
      "Cell \u001b[0;32mIn[2], line 1\u001b[0m\n\u001b[0;32m----> 1\u001b[0m \u001b[43mdatetime\u001b[49m\u001b[38;5;241;43m.\u001b[39;49m\u001b[43mnow\u001b[49m()\n",
      "\u001b[0;31mAttributeError\u001b[0m: module 'datetime' has no attribute 'now'"
     ]
    }
   ],
   "source": [
    "datetime.now()"
   ]
  },
  {
   "cell_type": "code",
   "execution_count": 154,
   "metadata": {},
   "outputs": [
    {
     "data": {
      "text/plain": [
       "'2024-07-25T01:22:30.444039Z'"
      ]
     },
     "execution_count": 154,
     "metadata": {},
     "output_type": "execute_result"
    }
   ],
   "source": [
    "dt = datetime.now()\n",
    "formatted_dt = dt.strftime('%Y-%m-%dT%H:%M:%S.%fZ')\n",
    "formatted_dt"
   ]
  }
 ],
 "metadata": {
  "kernelspec": {
   "display_name": "Python 3",
   "language": "python",
   "name": "python3"
  },
  "language_info": {
   "codemirror_mode": {
    "name": "ipython",
    "version": 3
   },
   "file_extension": ".py",
   "mimetype": "text/x-python",
   "name": "python",
   "nbconvert_exporter": "python",
   "pygments_lexer": "ipython3",
   "version": "3.10.13"
  }
 },
 "nbformat": 4,
 "nbformat_minor": 2
}
