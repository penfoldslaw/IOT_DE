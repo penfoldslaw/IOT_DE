{
 "cells": [
  {
   "cell_type": "code",
   "execution_count": 44,
   "metadata": {},
   "outputs": [
    {
     "name": "stdout",
     "output_type": "stream",
     "text": [
      "/home/worriedemployee/repo/IOT_DE/.venv\n"
     ]
    }
   ],
   "source": [
    "import sys\n",
    "print(sys.prefix)"
   ]
  },
  {
   "cell_type": "code",
   "execution_count": 45,
   "metadata": {},
   "outputs": [],
   "source": [
    "broker = 'test.mosquitto.org'\n",
    "port = 1883\n",
    "topic = 'test_topic1'\n"
   ]
  },
  {
   "cell_type": "code",
   "execution_count": 46,
   "metadata": {},
   "outputs": [
    {
     "data": {
      "text/plain": [
       "<paho.mqtt.client.MQTTMessageInfo at 0x7f3169cc3790>"
      ]
     },
     "execution_count": 46,
     "metadata": {},
     "output_type": "execute_result"
    }
   ],
   "source": [
    "import sys\n",
    "\n",
    "import paho.mqtt.client as mqtt\n",
    "\n",
    "client = mqtt.Client(mqtt.CallbackAPIVersion.VERSION2)\n",
    "broker = 'test.mosquitto.org'\n",
    "port = 1883\n",
    "topic = 'test_topic1'\n",
    "\n",
    "if client.connect(broker,port, 60) != 0:\n",
    "    print(\"Couldn't connect to the mqtt broker\")\n",
    "    sys.exit(1)\n",
    "\n",
    "client.publish(topic,'hello Andy', 0)\n",
    "#client.disconnect()\n",
    "# \n",
    "\n",
    "# if msg_info.is_published() == False:\n",
    "#     print('Message is not yet published.')\n",
    "\n",
    "\n"
   ]
  },
  {
   "cell_type": "code",
   "execution_count": 47,
   "metadata": {},
   "outputs": [
    {
     "name": "stdout",
     "output_type": "stream",
     "text": [
      "Press CTRL+C to exit...\n",
      "Disconnecting from the MQTT broker\n"
     ]
    },
    {
     "ename": "KeyboardInterrupt",
     "evalue": "",
     "output_type": "error",
     "traceback": [
      "\u001b[0;31m---------------------------------------------------------------------------\u001b[0m",
      "\u001b[0;31mKeyboardInterrupt\u001b[0m                         Traceback (most recent call last)",
      "Cell \u001b[0;32mIn[47], line 21\u001b[0m\n\u001b[1;32m     19\u001b[0m \u001b[38;5;28;01mtry\u001b[39;00m:\n\u001b[1;32m     20\u001b[0m     \u001b[38;5;28mprint\u001b[39m(\u001b[38;5;124m\"\u001b[39m\u001b[38;5;124mPress CTRL+C to exit...\u001b[39m\u001b[38;5;124m\"\u001b[39m)\n\u001b[0;32m---> 21\u001b[0m     \u001b[43mclient\u001b[49m\u001b[38;5;241;43m.\u001b[39;49m\u001b[43mloop_forever\u001b[49m\u001b[43m(\u001b[49m\u001b[43m)\u001b[49m\n\u001b[1;32m     22\u001b[0m \u001b[38;5;28;01mexcept\u001b[39;00m \u001b[38;5;167;01mException\u001b[39;00m:\n\u001b[1;32m     23\u001b[0m     \u001b[38;5;28mprint\u001b[39m(\u001b[38;5;124m\"\u001b[39m\u001b[38;5;124mCaught an Exception, something went wrong...\u001b[39m\u001b[38;5;124m\"\u001b[39m)\n",
      "File \u001b[0;32m~/repo/IOT_DE/.venv/lib/python3.10/site-packages/paho/mqtt/client.py:2297\u001b[0m, in \u001b[0;36mClient.loop_forever\u001b[0;34m(self, timeout, retry_first_connection)\u001b[0m\n\u001b[1;32m   2295\u001b[0m rc \u001b[38;5;241m=\u001b[39m MQTTErrorCode\u001b[38;5;241m.\u001b[39mMQTT_ERR_SUCCESS\n\u001b[1;32m   2296\u001b[0m \u001b[38;5;28;01mwhile\u001b[39;00m rc \u001b[38;5;241m==\u001b[39m MQTTErrorCode\u001b[38;5;241m.\u001b[39mMQTT_ERR_SUCCESS:\n\u001b[0;32m-> 2297\u001b[0m     rc \u001b[38;5;241m=\u001b[39m \u001b[38;5;28;43mself\u001b[39;49m\u001b[38;5;241;43m.\u001b[39;49m\u001b[43m_loop\u001b[49m\u001b[43m(\u001b[49m\u001b[43mtimeout\u001b[49m\u001b[43m)\u001b[49m\n\u001b[1;32m   2298\u001b[0m     \u001b[38;5;66;03m# We don't need to worry about locking here, because we've\u001b[39;00m\n\u001b[1;32m   2299\u001b[0m     \u001b[38;5;66;03m# either called loop_forever() when in single threaded mode, or\u001b[39;00m\n\u001b[1;32m   2300\u001b[0m     \u001b[38;5;66;03m# in multi threaded mode when loop_stop() has been called and\u001b[39;00m\n\u001b[1;32m   2301\u001b[0m     \u001b[38;5;66;03m# so no other threads can access _out_packet or _messages.\u001b[39;00m\n\u001b[1;32m   2302\u001b[0m     \u001b[38;5;28;01mif\u001b[39;00m (\u001b[38;5;28mself\u001b[39m\u001b[38;5;241m.\u001b[39m_thread_terminate \u001b[38;5;129;01mis\u001b[39;00m \u001b[38;5;28;01mTrue\u001b[39;00m\n\u001b[1;32m   2303\u001b[0m         \u001b[38;5;129;01mand\u001b[39;00m \u001b[38;5;28mlen\u001b[39m(\u001b[38;5;28mself\u001b[39m\u001b[38;5;241m.\u001b[39m_out_packet) \u001b[38;5;241m==\u001b[39m \u001b[38;5;241m0\u001b[39m\n\u001b[1;32m   2304\u001b[0m             \u001b[38;5;129;01mand\u001b[39;00m \u001b[38;5;28mlen\u001b[39m(\u001b[38;5;28mself\u001b[39m\u001b[38;5;241m.\u001b[39m_out_messages) \u001b[38;5;241m==\u001b[39m \u001b[38;5;241m0\u001b[39m):\n",
      "File \u001b[0;32m~/repo/IOT_DE/.venv/lib/python3.10/site-packages/paho/mqtt/client.py:1663\u001b[0m, in \u001b[0;36mClient._loop\u001b[0;34m(self, timeout)\u001b[0m\n\u001b[1;32m   1660\u001b[0m     rlist \u001b[38;5;241m=\u001b[39m [\u001b[38;5;28mself\u001b[39m\u001b[38;5;241m.\u001b[39m_sock, \u001b[38;5;28mself\u001b[39m\u001b[38;5;241m.\u001b[39m_sockpairR]\n\u001b[1;32m   1662\u001b[0m \u001b[38;5;28;01mtry\u001b[39;00m:\n\u001b[0;32m-> 1663\u001b[0m     socklist \u001b[38;5;241m=\u001b[39m \u001b[43mselect\u001b[49m\u001b[38;5;241;43m.\u001b[39;49m\u001b[43mselect\u001b[49m\u001b[43m(\u001b[49m\u001b[43mrlist\u001b[49m\u001b[43m,\u001b[49m\u001b[43m \u001b[49m\u001b[43mwlist\u001b[49m\u001b[43m,\u001b[49m\u001b[43m \u001b[49m\u001b[43m[\u001b[49m\u001b[43m]\u001b[49m\u001b[43m,\u001b[49m\u001b[43m \u001b[49m\u001b[43mtimeout\u001b[49m\u001b[43m)\u001b[49m\n\u001b[1;32m   1664\u001b[0m \u001b[38;5;28;01mexcept\u001b[39;00m \u001b[38;5;167;01mTypeError\u001b[39;00m:\n\u001b[1;32m   1665\u001b[0m     \u001b[38;5;66;03m# Socket isn't correct type, in likelihood connection is lost\u001b[39;00m\n\u001b[1;32m   1666\u001b[0m     \u001b[38;5;66;03m# ... or we called disconnect(). In that case the socket will\u001b[39;00m\n\u001b[0;32m   (...)\u001b[0m\n\u001b[1;32m   1669\u001b[0m     \u001b[38;5;66;03m# rc != MQTT_ERR_SUCCESS and we don't want state to change from\u001b[39;00m\n\u001b[1;32m   1670\u001b[0m     \u001b[38;5;66;03m# mqtt_cs_disconnecting.\u001b[39;00m\n\u001b[1;32m   1671\u001b[0m     \u001b[38;5;28;01mif\u001b[39;00m \u001b[38;5;28mself\u001b[39m\u001b[38;5;241m.\u001b[39m_state \u001b[38;5;129;01mnot\u001b[39;00m \u001b[38;5;129;01min\u001b[39;00m (_ConnectionState\u001b[38;5;241m.\u001b[39mMQTT_CS_DISCONNECTING, _ConnectionState\u001b[38;5;241m.\u001b[39mMQTT_CS_DISCONNECTED):\n",
      "\u001b[0;31mKeyboardInterrupt\u001b[0m: "
     ]
    }
   ],
   "source": [
    "import sys\n",
    "\n",
    "import paho.mqtt.client as mqtt\n",
    "\n",
    "\n",
    "def message_handling(client, userdata, msg):\n",
    "    print(f\"{msg.topic}: {msg.payload.decode('utf-8')}\")\n",
    "\n",
    "\n",
    "client = mqtt.Client(mqtt.CallbackAPIVersion.VERSION2)\n",
    "client.on_message = message_handling\n",
    "\n",
    "if client.connect(broker, 1883, 60) != 0:\n",
    "    print(\"Couldn't connect to the mqtt broker\")\n",
    "    sys.exit(1)\n",
    "\n",
    "client.subscribe(topic)\n",
    "\n",
    "try:\n",
    "    print(\"Press CTRL+C to exit...\")\n",
    "    client.loop_forever()\n",
    "except Exception:\n",
    "    print(\"Caught an Exception, something went wrong...\")\n",
    "finally:\n",
    "    print(\"Disconnecting from the MQTT broker\")\n",
    "    client.disconnect()"
   ]
  },
  {
   "cell_type": "code",
   "execution_count": null,
   "metadata": {},
   "outputs": [],
   "source": [
    "from faker import Faker  \n",
    "  \n",
    "# To create a json file \n",
    "import json         \n",
    "  \n",
    "# For student id  \n",
    "from random import randint \n",
    "\n",
    "fake = Faker()  \n",
    "  \n",
    "def input_data(x):  \n",
    "  \n",
    "    # dictionary  \n",
    "    student_data ={}  \n",
    "    for i in range(0, x):  \n",
    "        student_data[i]={}  \n",
    "        student_data[i]['id']= randint(1, 100)  \n",
    "        student_data[i]['name']= fake.name()  \n",
    "        student_data[i]['address']= fake.address()  \n",
    "        student_data[i]['latitude']= str(fake.latitude())  \n",
    "        student_data[i]['longitude']= str(fake.longitude())  \n",
    "    print(student_data)  \n",
    "  \n",
    "    # # dictionary dumped as json in a json file  \n",
    "    # with open('students.json', 'w') as fp:  \n",
    "    #     json.dump(student_data, fp)  \n",
    "\n",
    "\n",
    "\n",
    "    "
   ]
  },
  {
   "cell_type": "code",
   "execution_count": null,
   "metadata": {},
   "outputs": [],
   "source": [
    "input_data(2)\n"
   ]
  },
  {
   "cell_type": "code",
   "execution_count": 134,
   "metadata": {},
   "outputs": [
    {
     "data": {
      "text/plain": [
       "'10:35:47.000000'"
      ]
     },
     "execution_count": 134,
     "metadata": {},
     "output_type": "execute_result"
    }
   ],
   "source": [
    "from randomtimestamp import randomtimestamp, random_date, random_time\n",
    "from datetime import date, time\n",
    "import random\n",
    "\n",
    "random_microseconds = random.randint(0, 999999)\n",
    "\n",
    "random_time(\n",
    "    start=time(10,0,0,0) ,\n",
    "    end =time(13,0,0,0),\n",
    "    text = True,\n",
    "    pattern = \"%H:%M:%S.%f\"\n",
    "    # pattern = '%Y-%m-%dT%H:%M:%S' \n",
    "    ) \n"
   ]
  },
  {
   "cell_type": "code",
   "execution_count": null,
   "metadata": {},
   "outputs": [
    {
     "data": {
      "text/plain": [
       "'12:51:05'"
      ]
     },
     "execution_count": 14,
     "metadata": {},
     "output_type": "execute_result"
    }
   ],
   "source": [
    "from randomtimestamp import randomtimestamp, random_date, random_time\n",
    "\n",
    "\n",
    "random_date(text=True)\n",
    "random_time(text=True)\n",
    "\n"
   ]
  },
  {
   "cell_type": "code",
   "execution_count": null,
   "metadata": {},
   "outputs": [
    {
     "ename": "SyntaxError",
     "evalue": "invalid syntax (1756093198.py, line 15)",
     "output_type": "error",
     "traceback": [
      "\u001b[0;36m  Cell \u001b[0;32mIn[19], line 15\u001b[0;36m\u001b[0m\n\u001b[0;31m    datetime.(1970, 6, 2, 23, 34, 10)\u001b[0m\n\u001b[0m             ^\u001b[0m\n\u001b[0;31mSyntaxError\u001b[0m\u001b[0;31m:\u001b[0m invalid syntax\n"
     ]
    }
   ],
   "source": [
    "from randomtimestamp import random_date,random_time,randomtimestamp\n",
    "from datetime import datetime \n",
    "\n",
    "# randomtimestamp(\n",
    "#     date(1950,1,1),\n",
    "#     date(2001,1,1),\n",
    "#     False,\n",
    "#     00:00:00,\n",
    "#     23:59:59,\n",
    "#     \"%d-%m-%Y %H:%M:%S\"\n",
    "#     ) -> Union[datetime, str]:\n",
    "\n",
    "\n",
    "random_time()\n",
    "datetime(1970, 6, 2, 23, 34, 10)\n"
   ]
  },
  {
   "cell_type": "code",
   "execution_count": 117,
   "metadata": {},
   "outputs": [
    {
     "name": "stdout",
     "output_type": "stream",
     "text": [
      "2023-02-23T03:01:35.000Z\n"
     ]
    }
   ],
   "source": [
    "import random\n",
    "from datetime import datetime, timedelta\n",
    "\n",
    "def random_date(start, end):\n",
    "    \"\"\"Generate a random datetime between `start` and `end`.\"\"\"\n",
    "    delta = end - start\n",
    "    int_delta = (delta.days * 24 * 60 * 60) + delta.seconds\n",
    "    random_second = random.randint(0, int_delta)\n",
    "    return start + timedelta(seconds=random_second)\n",
    "\n",
    "def generate_random_timestamp():\n",
    "    # Define the start and end date range\n",
    "    start_date = datetime(2020, 1, 1)\n",
    "    end_date = datetime(2024, 12, 31)\n",
    "\n",
    "    # Generate a random datetime\n",
    "    random_dt = random_date(start_date, end_date)\n",
    "\n",
    "    # Format the datetime to the required format\n",
    "    timestamp = random_dt.strftime('%Y-%m-%dT%H:%M:%S') + f'.{random_dt.microsecond // 1000:03d}Z'\n",
    "    return timestamp\n",
    "\n",
    "# Generate and print a random timestamp\n",
    "print(generate_random_timestamp())\n"
   ]
  },
  {
   "cell_type": "code",
   "execution_count": 147,
   "metadata": {},
   "outputs": [
    {
     "name": "stdout",
     "output_type": "stream",
     "text": [
      "13:00:00.040027\n"
     ]
    }
   ],
   "source": [
    "from datetime import datetime\n",
    "random_microseconds = random.randint(0, 999999)\n",
    "\n",
    "# Get current time\n",
    "current_time = time(13,0,0,random_microseconds)\n",
    "print(current_time)\n"
   ]
  },
  {
   "cell_type": "code",
   "execution_count": 153,
   "metadata": {},
   "outputs": [
    {
     "data": {
      "text/plain": [
       "datetime.datetime(2024, 7, 24, 23, 22, 30, 271555)"
      ]
     },
     "execution_count": 153,
     "metadata": {},
     "output_type": "execute_result"
    }
   ],
   "source": [
    "datetime.now()"
   ]
  },
  {
   "cell_type": "code",
   "execution_count": 154,
   "metadata": {},
   "outputs": [
    {
     "data": {
      "text/plain": [
       "'2024-07-25T01:22:30.444039Z'"
      ]
     },
     "execution_count": 154,
     "metadata": {},
     "output_type": "execute_result"
    }
   ],
   "source": [
    "dt = datetime.now()\n",
    "formatted_dt = dt.strftime('%Y-%m-%dT%H:%M:%S.%fZ')\n",
    "formatted_dt"
   ]
  }
 ],
 "metadata": {
  "kernelspec": {
   "display_name": "Python 3",
   "language": "python",
   "name": "python3"
  },
  "language_info": {
   "codemirror_mode": {
    "name": "ipython",
    "version": 3
   },
   "file_extension": ".py",
   "mimetype": "text/x-python",
   "name": "python",
   "nbconvert_exporter": "python",
   "pygments_lexer": "ipython3",
   "version": "3.10.12"
  }
 },
 "nbformat": 4,
 "nbformat_minor": 2
}
