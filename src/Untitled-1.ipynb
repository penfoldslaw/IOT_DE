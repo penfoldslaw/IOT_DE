{
 "cells": [
  {
   "cell_type": "code",
   "execution_count": 44,
   "metadata": {},
   "outputs": [
    {
     "name": "stdout",
     "output_type": "stream",
     "text": [
      "/home/worriedemployee/repo/IOT_DE/.venv\n"
     ]
    }
   ],
   "source": [
    "import sys\n",
    "print(sys.prefix)"
   ]
  },
  {
   "cell_type": "code",
   "execution_count": 45,
   "metadata": {},
   "outputs": [],
   "source": [
    "broker = 'test.mosquitto.org'\n",
    "port = 1883\n",
    "topic = 'test_topic1'\n"
   ]
  },
  {
   "cell_type": "code",
   "execution_count": 46,
   "metadata": {},
   "outputs": [
    {
     "data": {
      "text/plain": [
       "<paho.mqtt.client.MQTTMessageInfo at 0x7f3169cc3790>"
      ]
     },
     "execution_count": 46,
     "metadata": {},
     "output_type": "execute_result"
    }
   ],
   "source": [
    "import sys\n",
    "\n",
    "import paho.mqtt.client as mqtt\n",
    "\n",
    "client = mqtt.Client(mqtt.CallbackAPIVersion.VERSION2)\n",
    "broker = 'test.mosquitto.org'\n",
    "port = 1883\n",
    "topic = 'test_topic1'\n",
    "\n",
    "if client.connect(broker,port, 60) != 0:\n",
    "    print(\"Couldn't connect to the mqtt broker\")\n",
    "    sys.exit(1)\n",
    "\n",
    "client.publish(topic,'hello Andy', 0)\n",
    "#client.disconnect()\n",
    "# \n",
    "\n",
    "# if msg_info.is_published() == False:\n",
    "#     print('Message is not yet published.')\n",
    "\n",
    "\n"
   ]
  },
  {
   "cell_type": "code",
   "execution_count": null,
   "metadata": {},
   "outputs": [],
   "source": [
    "import sys\n",
    "\n",
    "import paho.mqtt.client as mqtt\n",
    "\n",
    "\n",
    "def message_handling(client, userdata, msg):\n",
    "    print(f\"{msg.topic}: {msg.payload.decode('utf-8')}\")\n",
    "\n",
    "\n",
    "client = mqtt.Client(mqtt.CallbackAPIVersion.VERSION2)\n",
    "client.on_message = message_handling\n",
    "\n",
    "if client.connect(broker, 1883, 60) != 0:\n",
    "    print(\"Couldn't connect to the mqtt broker\")\n",
    "    sys.exit(1)\n",
    "\n",
    "client.subscribe(topic)\n",
    "\n",
    "try:\n",
    "    print(\"Press CTRL+C to exit...\")\n",
    "    client.loop_forever()\n",
    "except Exception:\n",
    "    print(\"Caught an Exception, something went wrong...\")\n",
    "finally:\n",
    "    print(\"Disconnecting from the MQTT broker\")\n",
    "    client.disconnect()"
   ]
  },
  {
   "cell_type": "code",
   "execution_count": 183,
   "metadata": {},
   "outputs": [
    {
     "name": "stdout",
     "output_type": "stream",
     "text": [
      "{0: {'id': 1, 'timestamp': '2024-07-27T18:07:52.064967Z', 'rpm': 11036, 'gear': 6, 'throttle_position': 64, 'tire_temps': {'front_left': 40, 'front_right': 42, 'rear_left': 92, 'rear_right': 27}}}\n"
     ]
    }
   ],
   "source": [
    "# from faker import Faker  \n",
    "from datetime import datetime, timedelta\n",
    "from random import randint \n",
    "# To create a json file \n",
    "import json         \n",
    "\n",
    "dt = datetime.now()\n",
    "formatted_dt = dt.strftime('%Y-%m-%dT%H:%M:%S.%fZ')\n",
    "\n",
    "\n",
    "  \n",
    "def input_data(x):  \n",
    "  \n",
    "    # dictionary  \n",
    "    telemetry_data ={}  \n",
    "    for i in range(0, x):  \n",
    "        telemetry_data[i]={}  \n",
    "        telemetry_data[i]['id']= 1 \n",
    "        telemetry_data[i]['timestamp']= formatted_dt\n",
    "        telemetry_data[i]['rpm']= randint(6000,15000)\n",
    "        telemetry_data[i]['gear']= randint(1,6) \n",
    "        telemetry_data[i]['throttle_position']= randint(0,100)\n",
    "        telemetry_data[i]['tire_temps']= {\"front_left\":randint(0,99), \"front_right\":randint(0,99), \"rear_left\":randint(0,99), \"rear_right\":randint(0,99)} \n",
    "    print(telemetry_data)  \n",
    "  \n",
    "    # # dictionary dumped as json in a json file  \n",
    "    # with open('students.json', 'w') as fp:  \n",
    "    #     json.dump(student_data, fp)  \n",
    "\n",
    "# 05.244582Z\n",
    "f1_data = input_data(1)\n",
    "results = str(f1_data)\n",
    "\n",
    "\n",
    "    "
   ]
  },
  {
   "cell_type": "code",
   "execution_count": 334,
   "metadata": {},
   "outputs": [
    {
     "name": "stdout",
     "output_type": "stream",
     "text": [
      "job done\n"
     ]
    }
   ],
   "source": [
    "import sys\n",
    "from datetime import datetime, timedelta\n",
    "from random import randint\n",
    "import time\n",
    "import json         \n",
    "import paho.mqtt.client as mqtt\n",
    "from kafka import KafkaProducer\n",
    "\n",
    "dt = datetime.now() # can't use variables in the while loop they don't change they stay consisent\n",
    "formatted_dt = dt.strftime('%Y-%m-%dT%H:%M:%S.%fZ') # this produces the current data to the mirco-second\n",
    "new_cure_time = dt + timedelta(seconds=20)\n",
    "rmp_data =  randint(6000,15000)\n",
    "gear_data = randint(1,6)\n",
    "throttle_position_data = randint(0,100)\n",
    "tire_temps = randint(0,99)\n",
    "\n",
    "\n",
    "\n",
    "\n",
    "while True:\n",
    "    telemetry_data = {\n",
    "        'id':1,\n",
    "        'timestamp':  datetime.now().strftime('%Y-%m-%dT%H:%M:%S.%fZ'),\n",
    "        'rpm': randint(6000,15000),\n",
    "        'gear':randint(1,6),\n",
    "        'throttle_position': randint(0,100),\n",
    "        'tire_temps': {\"front_left\":randint(0,99), \"front_right\":randint(0,99), \"rear_left\":randint(0,99), \"rear_right\":randint(0,99)} \n",
    "    }\n",
    "\n",
    "    load = json.dumps(telemetry_data)\n",
    "\n",
    "    client = mqtt.Client(mqtt.CallbackAPIVersion.VERSION2)\n",
    "    broker = 'test.mosquitto.org'\n",
    "    port = 1883\n",
    "    topic = 'test_topic1'\n",
    "\n",
    "\n",
    "    producer = KafkaProducer(bootstrap_servers='localhost:9092' ,value_serializer=lambda v: json.dumps(telemetry_data).encode('utf-8'))\n",
    "    producer.send('youtube', {'foo': 'bar'})\n",
    "\n",
    "    if client.connect(broker,port, 60) != 0:\n",
    "        print(\"Couldn't connect to the mqtt broker\")\n",
    "        sys.exit(1)\n",
    "\n",
    "\n",
    "    client.publish(topic,str(load), 0)\n",
    "    if datetime.now() > new_cure_time:\n",
    "        break\n",
    "    time.sleep(5)\n",
    "\n",
    "\n",
    "\n",
    "\n",
    "print('job done')\n",
    "\n",
    "# while True:\n",
    "#     f1_data()\n",
    "#     time.sleep(5)\n",
    "# client.disconnect()\n",
    "# print(f'this is f1_data, {load}')\n"
   ]
  },
  {
   "cell_type": "code",
   "execution_count": 215,
   "metadata": {},
   "outputs": [],
   "source": [
    "f1_data()"
   ]
  },
  {
   "cell_type": "code",
   "execution_count": null,
   "metadata": {},
   "outputs": [],
   "source": [
    "def input_data(x):  \n",
    "  \n",
    "    # dictionary  \n",
    "    telemetry_data ={} \n",
    "    for i in range(0, x):  \n",
    "        telemetry_data[i]={}  \n",
    "        telemetry_data[i]['id']= 1 \n",
    "        telemetry_data[i]['timestamp']= formatted_dt\n",
    "        telemetry_data[i]['rpm']= randint(6000,15000)\n",
    "        telemetry_data[i]['gear']= randint(1,6) \n",
    "        telemetry_data[i]['throttle_position']= randint(0,100)\n",
    "        telemetry_data[i]['tire_temps']= {\"front_left\":randint(0,99), \"front_right\":randint(0,99), \"rear_left\":randint(0,99), \"rear_right\":randint(0,99)}\n",
    "    print(telemetry_data) \n",
    "\n",
    "dt = datetime.now()\n",
    "formatted_dt = dt.strftime('%Y-%m-%dT%H:%M:%S.%fZ')\n",
    "\n",
    "telemetry_data = {\n",
    "    'id':1,\n",
    "    'timestamp': formatted_dt,\n",
    "    'rpm': randint(6000,1500),\n",
    "    'gear':randint(1,6),\n",
    "    'throttle_position': randint(0,100),\n",
    "    'tire_temps': {\"front_left\":randint(0,99), \"front_right\":randint(0,99), \"rear_left\":randint(0,99), \"rear_right\":randint(0,99)} \n",
    "}"
   ]
  },
  {
   "cell_type": "code",
   "execution_count": null,
   "metadata": {},
   "outputs": [],
   "source": [
    "new_cure_time = formatted_dt + timedelta(hours=1)"
   ]
  },
  {
   "cell_type": "code",
   "execution_count": 221,
   "metadata": {},
   "outputs": [
    {
     "name": "stdout",
     "output_type": "stream",
     "text": [
      "{'id': 13, 'timestamp': '2024-07-27T20:31:04.960026Z', 'rpm': 8827, 'gear': 4, 'throttle_position': 83, 'tire_temps': {'front_left': 43, 'front_right': 89, 'rear_left': 56, 'rear_right': 94}}\n",
      "{'id': 6, 'timestamp': '2024-07-27T20:31:04.960026Z', 'rpm': 8827, 'gear': 4, 'throttle_position': 83, 'tire_temps': {'front_left': 43, 'front_right': 89, 'rear_left': 56, 'rear_right': 94}}\n",
      "{'id': 14, 'timestamp': '2024-07-27T20:31:04.960026Z', 'rpm': 8827, 'gear': 4, 'throttle_position': 83, 'tire_temps': {'front_left': 43, 'front_right': 89, 'rear_left': 56, 'rear_right': 94}}\n",
      "{'id': 10, 'timestamp': '2024-07-27T20:31:04.960026Z', 'rpm': 8827, 'gear': 4, 'throttle_position': 83, 'tire_temps': {'front_left': 43, 'front_right': 89, 'rear_left': 56, 'rear_right': 94}}\n"
     ]
    },
    {
     "ename": "KeyboardInterrupt",
     "evalue": "",
     "output_type": "error",
     "traceback": [
      "\u001b[0;31m---------------------------------------------------------------------------\u001b[0m",
      "\u001b[0;31mKeyboardInterrupt\u001b[0m                         Traceback (most recent call last)",
      "Cell \u001b[0;32mIn[221], line 16\u001b[0m\n\u001b[1;32m     14\u001b[0m \u001b[38;5;28;01mwhile\u001b[39;00m \u001b[38;5;28;01mTrue\u001b[39;00m:\n\u001b[1;32m     15\u001b[0m     job()\n\u001b[0;32m---> 16\u001b[0m     \u001b[43mtime\u001b[49m\u001b[38;5;241;43m.\u001b[39;49m\u001b[43msleep\u001b[49m\u001b[43m(\u001b[49m\u001b[38;5;241;43m5\u001b[39;49m\u001b[43m)\u001b[49m  \u001b[38;5;66;03m# Sleep for 5 minutes\u001b[39;00m\n",
      "\u001b[0;31mKeyboardInterrupt\u001b[0m: "
     ]
    }
   ],
   "source": [
    "import time\n",
    "\n",
    "def job():\n",
    "    telemetry_data_1 = {\n",
    "    'id':randint(1,20),\n",
    "    'timestamp': formatted_dt,\n",
    "    'rpm': rmp_data,\n",
    "    'gear':gear_data,\n",
    "    'throttle_position': throttle_position_data,\n",
    "    'tire_temps': {\"front_left\":front_left_data, \"front_right\":front_right_data, \"rear_left\":rear_left_data, \"rear_right\":rear_right_data} \n",
    "    }\n",
    "    print (telemetry_data_1)\n",
    "\n",
    "while True:\n",
    "    job()\n",
    "    time.sleep(5)  # Sleep for 5 minutes"
   ]
  },
  {
   "cell_type": "code",
   "execution_count": 246,
   "metadata": {},
   "outputs": [
    {
     "name": "stdout",
     "output_type": "stream",
     "text": [
      "done\n"
     ]
    }
   ],
   "source": [
    "import time\n",
    "\n",
    "# timeout variable can be omitted, if you use specific value in the while condition\n",
    "timeout = 10   # [seconds]\n",
    "\n",
    "timeout_start = time.time()\n",
    "\n",
    "while time.time() < timeout_start + timeout:\n",
    "    test = 0\n",
    "    if test == 5:\n",
    "        break\n",
    "    test -= 1\n",
    "print('done')"
   ]
  },
  {
   "cell_type": "code",
   "execution_count": 319,
   "metadata": {},
   "outputs": [
    {
     "name": "stdout",
     "output_type": "stream",
     "text": [
      "2024-07-27 22:09:17.018873   2024-07-27 22:09:27.018819\n"
     ]
    },
    {
     "ename": "KeyboardInterrupt",
     "evalue": "",
     "output_type": "error",
     "traceback": [
      "\u001b[0;31m---------------------------------------------------------------------------\u001b[0m",
      "\u001b[0;31mKeyboardInterrupt\u001b[0m                         Traceback (most recent call last)",
      "Cell \u001b[0;32mIn[319], line 8\u001b[0m\n\u001b[1;32m      6\u001b[0m     \u001b[38;5;28;01mif\u001b[39;00m datetime\u001b[38;5;241m.\u001b[39mnow() \u001b[38;5;241m>\u001b[39m new_cure_time_1:\n\u001b[1;32m      7\u001b[0m         \u001b[38;5;28;01mbreak\u001b[39;00m\n\u001b[0;32m----> 8\u001b[0m     \u001b[43mtime\u001b[49m\u001b[38;5;241;43m.\u001b[39;49m\u001b[43msleep\u001b[49m\u001b[43m(\u001b[49m\u001b[38;5;241;43m5\u001b[39;49m\u001b[43m)\u001b[49m\n\u001b[1;32m      9\u001b[0m \u001b[38;5;28mprint\u001b[39m(\u001b[38;5;124m\"\u001b[39m\u001b[38;5;124mtime is up\u001b[39m\u001b[38;5;124m\"\u001b[39m)\n",
      "\u001b[0;31mKeyboardInterrupt\u001b[0m: "
     ]
    }
   ],
   "source": [
    "from datetime import datetime, timedelta\n",
    "new_cure_time_1 = datetime.now() + timedelta(seconds=10)\n",
    "\n",
    "while True:\n",
    "    print(datetime.now(),\" \",new_cure_time_1)\n",
    "    if datetime.now() > new_cure_time_1:\n",
    "        break\n",
    "    time.sleep(5)\n",
    "print(\"time is up\")"
   ]
  },
  {
   "cell_type": "code",
   "execution_count": 309,
   "metadata": {},
   "outputs": [
    {
     "name": "stdout",
     "output_type": "stream",
     "text": [
      "2024-07-27 22:00:47.975169   2024-07-27 22:01:02.975139\n"
     ]
    }
   ],
   "source": [
    "new_cure_time_2 = datetime.now() + timedelta(seconds=15)\n",
    "\n",
    "print(datetime.now(), ' ', new_cure_time_2)"
   ]
  },
  {
   "cell_type": "code",
   "execution_count": 248,
   "metadata": {},
   "outputs": [
    {
     "data": {
      "text/plain": [
       "datetime.datetime(2024, 7, 27, 22, 33, 43, 934901)"
      ]
     },
     "execution_count": 248,
     "metadata": {},
     "output_type": "execute_result"
    }
   ],
   "source": [
    "new_cure_time"
   ]
  },
  {
   "cell_type": "code",
   "execution_count": 245,
   "metadata": {},
   "outputs": [
    {
     "name": "stdout",
     "output_type": "stream",
     "text": [
      "2024-07-27 22:33:43.934901\n"
     ]
    }
   ],
   "source": [
    "from datetime import datetime, timedelta\n",
    "\n",
    "# Assuming cure_time is a datetime object\n",
    "cure_time = datetime.now()\n",
    "\n",
    "# Add one hour\n",
    "new_cure_time = cure_time + timedelta(hours=1)\n",
    "\n",
    "print(new_cure_time)"
   ]
  },
  {
   "cell_type": "code",
   "execution_count": 335,
   "metadata": {},
   "outputs": [
    {
     "data": {
      "text/plain": [
       "<kafka.producer.future.FutureRecordMetadata at 0x7f317c423b50>"
      ]
     },
     "execution_count": 335,
     "metadata": {},
     "output_type": "execute_result"
    }
   ],
   "source": [
    "producer = KafkaProducer(bootstrap_servers='localhost:9092')\n",
    "producer.send('youtube', b'some_message_bytes')"
   ]
  },
  {
   "cell_type": "code",
   "execution_count": null,
   "metadata": {},
   "outputs": [],
   "source": [
    "import sys\n",
    "\n",
    "import paho.mqtt.client as mqtt\n",
    "\n",
    "broker = 'test.mosquitto.org'\n",
    "port = 1883\n",
    "topic = 'test_topic1'\n",
    "def message_handling(client, userdata, msg):\n",
    "    print(f\"{msg.topic}: {msg.payload.decode('utf-8')}\")\n",
    "\n",
    "\n",
    "client = mqtt.Client(mqtt.CallbackAPIVersion.VERSION2)\n",
    "client.on_message = message_handling\n",
    "\n",
    "if client.connect(broker, 1883, 60) != 0:\n",
    "    print(\"Couldn't connect to the mqtt broker\")\n",
    "    sys.exit(1)\n",
    "\n",
    "client.subscribe((topic,2))\n",
    "\n",
    "try:\n",
    "    print(\"Press CTRL+Z to exit...\")\n",
    "    client.loop_forever()\n",
    "except Exception:\n",
    "    print(\"Caught an Exception, something went wrong...\")\n",
    "finally:\n",
    "    print(\"Disconnecting from the MQTT broker\")\n",
    "    client.disconnect()"
   ]
  },
  {
   "cell_type": "markdown",
   "metadata": {},
   "source": [
    "####----------------------things started working here ----------------------######\n",
    "\n",
    "To bring up docker compose.yml: docker compose up -d\n",
    "To bring it down do: docker compose down\n",
    "\n",
    "To go into the container: docker exec -it kafka bin/sh\n",
    "\n",
    "Use this repo for reference: https://github.com/Java-Techie-jt/kafka-installation/blob/main/README.md\n",
    "\n",
    "Kafka with zookeeper:\n",
    "\n",
    "How to create a topic: kafka-topics.sh --create --zookeeper zookeeper:2181 --replication-factor 1 --partitions 1 --topic f1-telemetry\n",
    "\n",
    "\n",
    "How to read the topic: kafka-console-consumer.sh --topic f1-telemetry --from-beginning --bootstrap-server localhost:9092\n",
    "\n",
    "how to delete a topic: kafka-topics.sh --bootstrap-server=localhost:9092 --delete --topic test_topic1 \n",
    "\n",
    "how to list a topic: kafka-topics.sh --bootstrap-server=localhost:9092 --list\n",
    "\n",
    "for when kafka delete does not work: docker compose down -v\n",
    "\n",
    "\n",
    "\n",
    "####------- Things I need to do --------######\n",
    "So far we are able to produce data from the mqtt broker to kafka just need to play around with the topics more in kafka like deleting it and matching it to the ones I have with mqtt. Also check on messaging handling in bridge want to print the topic along with the data like how it is done in sub.py\n",
    "\n",
    "\n",
    "\n",
    "###-----random notes------#####\n",
    "pip3 freeze > requirements.txt this creates a requirements.txt file with all the packages installed in my virtual enviroments, rerun it if new ones are installed.\n",
    "\n",
    "this is how you would install all the requirements: pip install -r requirements.txt\n",
    "\n",
    "\n",
    "\n",
    "####----using spark-----#####\n",
    "how to run something: docker compose run spark-submit spark-submit --master spark://spark-master:7077 /app/test_spark.py\n"
   ]
  }
 ],
 "metadata": {
  "kernelspec": {
   "display_name": "Python 3",
   "language": "python",
   "name": "python3"
  },
  "language_info": {
   "codemirror_mode": {
    "name": "ipython",
    "version": 3
   },
   "file_extension": ".py",
   "mimetype": "text/x-python",
   "name": "python",
   "nbconvert_exporter": "python",
   "pygments_lexer": "ipython3",
   "version": "3.10.12"
  }
 },
 "nbformat": 4,
 "nbformat_minor": 2
}
