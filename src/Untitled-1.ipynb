{
 "cells": [
  {
   "cell_type": "code",
   "execution_count": 7,
   "metadata": {},
   "outputs": [
    {
     "name": "stdout",
     "output_type": "stream",
     "text": [
      "/home/worriedemployee/repo/IOT_DE/.venv\n"
     ]
    }
   ],
   "source": [
    "import sys\n",
    "print(sys.prefix)"
   ]
  },
  {
   "cell_type": "code",
   "execution_count": 8,
   "metadata": {},
   "outputs": [],
   "source": [
    "broker = 'test.mosquitto.org'\n",
    "port = 1883\n",
    "topic = 'test_topic1'\n"
   ]
  },
  {
   "cell_type": "code",
   "execution_count": null,
   "metadata": {},
   "outputs": [
    {
     "data": {
      "text/plain": [
       "<paho.mqtt.client.MQTTMessageInfo at 0x7f0012e07150>"
      ]
     },
     "execution_count": 9,
     "metadata": {},
     "output_type": "execute_result"
    }
   ],
   "source": [
    "import sys\n",
    "\n",
    "import paho.mqtt.client as mqtt\n",
    "\n",
    "client = mqtt.Client(mqtt.CallbackAPIVersion.VERSION2)\n",
    "broker = 'test.mosquitto.org'\n",
    "port = 1883\n",
    "topic = 'test_topic1'\n",
    "\n",
    "if client.connect(broker,port, 60) != 0:\n",
    "    print(\"Couldn't connect to the mqtt broker\")\n",
    "    sys.exit(1)\n",
    "\n",
    "client.publish(topic,'hello Andy', 0)\n",
    "#client.disconnect()\n",
    "# \n",
    "\n",
    "# if msg_info.is_published() == False:\n",
    "#     print('Message is not yet published.')\n",
    "\n",
    "\n"
   ]
  },
  {
   "cell_type": "code",
   "execution_count": null,
   "metadata": {},
   "outputs": [],
   "source": [
    "import sys\n",
    "\n",
    "import paho.mqtt.client as mqtt\n",
    "\n",
    "\n",
    "def message_handling(client, userdata, msg):\n",
    "    print(f\"{msg.topic}: {msg.payload.decode('utf-8')}\")\n",
    "\n",
    "\n",
    "client = mqtt.Client(mqtt.CallbackAPIVersion.VERSION2)\n",
    "client.on_message = message_handling\n",
    "\n",
    "if client.connect(broker, 1883, 60) != 0:\n",
    "    print(\"Couldn't connect to the mqtt broker\")\n",
    "    sys.exit(1)\n",
    "\n",
    "client.subscribe(topic)\n",
    "\n",
    "try:\n",
    "    print(\"Press CTRL+C to exit...\")\n",
    "    client.loop_forever()\n",
    "except Exception:\n",
    "    print(\"Caught an Exception, something went wrong...\")\n",
    "finally:\n",
    "    print(\"Disconnecting from the MQTT broker\")\n",
    "    client.disconnect()"
   ]
  },
  {
   "cell_type": "code",
   "execution_count": 11,
   "metadata": {},
   "outputs": [],
   "source": [
    "from faker import Faker  \n",
    "  \n",
    "# To create a json file \n",
    "import json         \n",
    "  \n",
    "# For student id  \n",
    "from random import randint \n",
    "\n",
    "fake = Faker()  \n",
    "  \n",
    "def input_data(x):  \n",
    "  \n",
    "    # dictionary  \n",
    "    student_data ={}  \n",
    "    for i in range(0, x):  \n",
    "        student_data[i]={}  \n",
    "        student_data[i]['id']= randint(1, 100)  \n",
    "        student_data[i]['name']= fake.name()  \n",
    "        student_data[i]['address']= fake.address()  \n",
    "        student_data[i]['latitude']= str(fake.latitude())  \n",
    "        student_data[i]['longitude']= str(fake.longitude())  \n",
    "    print(student_data)  \n",
    "  \n",
    "    # # dictionary dumped as json in a json file  \n",
    "    # with open('students.json', 'w') as fp:  \n",
    "    #     json.dump(student_data, fp)  \n",
    "\n",
    "\n",
    "\n",
    "    "
   ]
  },
  {
   "cell_type": "code",
   "execution_count": null,
   "metadata": {},
   "outputs": [],
   "source": [
    "input_data(2)\n"
   ]
  },
  {
   "cell_type": "code",
   "execution_count": 53,
   "metadata": {},
   "outputs": [
    {
     "data": {
      "text/plain": [
       "'10-09-2003'"
      ]
     },
     "execution_count": 53,
     "metadata": {},
     "output_type": "execute_result"
    }
   ],
   "source": [
    "from randomtimestamp import randomtimestamp, random_date, random_time\n",
    "\n",
    "\n",
    "\n",
    "random_date(\n",
    "    date(1950,2,1),\n",
    "    date(2020,2,1),\n",
    "    text = True,\n",
    "    pattern= \"%d-%m-%Y\"\n",
    ")\n"
   ]
  },
  {
   "cell_type": "code",
   "execution_count": null,
   "metadata": {},
   "outputs": [],
   "source": [
    "from randomtimestamp import randomtimestamp, random_date, random_time\n"
   ]
  },
  {
   "cell_type": "code",
   "execution_count": 19,
   "metadata": {},
   "outputs": [
    {
     "ename": "SyntaxError",
     "evalue": "invalid syntax (1756093198.py, line 15)",
     "output_type": "error",
     "traceback": [
      "\u001b[0;36m  Cell \u001b[0;32mIn[19], line 15\u001b[0;36m\u001b[0m\n\u001b[0;31m    datetime.(1970, 6, 2, 23, 34, 10)\u001b[0m\n\u001b[0m             ^\u001b[0m\n\u001b[0;31mSyntaxError\u001b[0m\u001b[0;31m:\u001b[0m invalid syntax\n"
     ]
    }
   ],
   "source": [
    "from randomtimestamp import random_date,random_time,randomtimestamp\n",
    "from datetime import datetime \n",
    "\n",
    "# randomtimestamp(\n",
    "#     date(1950,1,1),\n",
    "#     date(2001,1,1),\n",
    "#     False,\n",
    "#     00:00:00,\n",
    "#     23:59:59,\n",
    "#     \"%d-%m-%Y %H:%M:%S\"\n",
    "#     ) -> Union[datetime, str]:\n",
    "\n",
    "\n",
    "random_time()\n",
    "datetime.(1970, 6, 2, 23, 34, 10)\n"
   ]
  },
  {
   "cell_type": "code",
   "execution_count": 9,
   "metadata": {},
   "outputs": [
    {
     "ename": "SyntaxError",
     "evalue": "incomplete input (265023284.py, line 1)",
     "output_type": "error",
     "traceback": [
      "\u001b[0;36m  Cell \u001b[0;32mIn[9], line 1\u001b[0;36m\u001b[0m\n\u001b[0;31m    def type_amount_data():\u001b[0m\n\u001b[0m                           ^\u001b[0m\n\u001b[0;31mSyntaxError\u001b[0m\u001b[0;31m:\u001b[0m incomplete input\n"
     ]
    }
   ],
   "source": [
    "def type_amount_data(X):\n",
    "\n",
    "    f1_telemtery_data = {}\n",
    "    \n",
    "    for i in range(0,X):\n",
    "        f1_telemtery_data[i]={}  \n",
    "        f1_telemtery_data[i]['carid'] = 1\n",
    "        f1_telemtery_datai[i]['']\n"
   ]
  },
  {
   "cell_type": "code",
   "execution_count": null,
   "metadata": {},
   "outputs": [],
   "source": []
  }
 ],
 "metadata": {
  "kernelspec": {
   "display_name": "Python 3",
   "language": "python",
   "name": "python3"
  },
  "language_info": {
   "codemirror_mode": {
    "name": "ipython",
    "version": 3
   },
   "file_extension": ".py",
   "mimetype": "text/x-python",
   "name": "python",
   "nbconvert_exporter": "python",
   "pygments_lexer": "ipython3",
   "version": "3.10.13"
  }
 },
 "nbformat": 4,
 "nbformat_minor": 2
}
